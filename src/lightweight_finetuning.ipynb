{
 "cells": [
  {
   "cell_type": "markdown",
   "id": "f35354cd",
   "metadata": {},
   "source": [
    "# Lightweight Fine-Tuning Project"
   ]
  },
  {
   "cell_type": "markdown",
   "id": "560fb3ff",
   "metadata": {},
   "source": [
    "TODO: In this cell, describe your choices for each of the following\n",
    "\n",
    "* PEFT technique: I used **LoRA** as my PEFT technique. LoRA is the only PEFT technique that is compatible with all models at this time.\n",
    "* Model: I used **distilbert-base-uncased** as my model. This is a relatively small model that is compatible with sequence classification and **LoRA**.\n",
    "* Evaluation approach: The evaluation approach covered in this project was the `evaluate` method with a **Hugging Face** `Trainer`.\n",
    "* Fine-tuning dataset: I use a dataset from Hugging Face's datasets library [stanfordnlp/imdb](https://huggingface.co/datasets/stanfordnlp/imdb)."
   ]
  },
  {
   "cell_type": "markdown",
   "id": "de8d76bb",
   "metadata": {},
   "source": [
    "## Loading and Evaluating a Foundation Model\n",
    "\n",
    "TODO: In the cells below, load your chosen pre-trained Hugging Face model and evaluate its performance prior to fine-tuning. This step includes loading an appropriate tokenizer and dataset."
   ]
  },
  {
   "cell_type": "markdown",
   "id": "d0349143",
   "metadata": {},
   "source": [
    "### Import libraries"
   ]
  },
  {
   "cell_type": "code",
   "execution_count": null,
   "id": "f551c63a",
   "metadata": {},
   "outputs": [],
   "source": [
    "import numpy as np\n",
    "import pandas as pd\n",
    "from datasets import load_dataset\n",
    "from transformers import (\n",
    "    AutoModelForSequenceClassification,\n",
    "    AutoTokenizer,\n",
    "    DataCollatorWithPadding,\n",
    "    Trainer,\n",
    "    TrainingArguments,\n",
    ")"
   ]
  },
  {
   "cell_type": "markdown",
   "id": "013a3380",
   "metadata": {},
   "source": [
    "### Loading the model"
   ]
  },
  {
   "cell_type": "code",
   "execution_count": 2,
   "id": "4935cb4d",
   "metadata": {},
   "outputs": [
    {
     "data": {
      "text/plain": [
       "Dataset({\n",
       "    features: ['text', 'label'],\n",
       "    num_rows: 20000\n",
       "})"
      ]
     },
     "execution_count": 2,
     "metadata": {},
     "output_type": "execute_result"
    }
   ],
   "source": [
    "# See: https://huggingface.co/datasets/stanfordnlp/imdb\n",
    "dataset = load_dataset(\n",
    "    \"stanfordnlp/imdb\", split=\"train\"\n",
    ").train_test_split(test_size=0.2, shuffle=True, seed=23)\n",
    "\n",
    "splits = [\"train\", \"test\"]\n",
    "dataset[\"train\"]"
   ]
  },
  {
   "cell_type": "code",
   "execution_count": 3,
   "id": "a6cfb1ee",
   "metadata": {},
   "outputs": [
    {
     "data": {
      "text/plain": [
       "{'text': 'The stories in this video are very entertaining, and it definately is worth a look! The first one concerns a young couple harrassed in the woods by two rednecks, with a great, but unexplained twist at the end.<br /><br />The seond is the best of the lot, and it alone, makes this worth watching - A man is attacked by a dog, which he fears to be rabid - He finds shelter in what appears to be a hospital, but he finds out the employees there are not exactly what they appear to be...... Great twist at the end, and this episode alone scores 10/10! If the others were up to par with this one, this would get 10/10!<br /><br />The third is the weakest of the bunch - A girl meets with some guys and has wild sex! There appears to be no point to the story until the end, with a good little twist, but it is spoiled by the awful first part!<br /><br />Never the less, this is a great movie that will not do you wrong at all! Well worth a rental!',\n",
       " 'label': 1}"
      ]
     },
     "execution_count": 3,
     "metadata": {},
     "output_type": "execute_result"
    }
   ],
   "source": [
    "# Inspect the first example\n",
    "dataset[\"train\"][0]"
   ]
  },
  {
   "cell_type": "markdown",
   "id": "8a9e14de",
   "metadata": {},
   "source": [
    "### Pre-process datasets\n",
    "\n",
    "Now we are going to process our datasets by converting all the text into tokens for our models."
   ]
  },
  {
   "cell_type": "code",
   "execution_count": null,
   "id": "f28c4a78",
   "metadata": {},
   "outputs": [
    {
     "data": {
      "application/vnd.jupyter.widget-view+json": {
       "model_id": "8c8dc62580c14952a100edf39e57ec91",
       "version_major": 2,
       "version_minor": 0
      },
      "text/plain": [
       "Map:   0%|          | 0/5000 [00:00<?, ? examples/s]"
      ]
     },
     "metadata": {},
     "output_type": "display_data"
    },
    {
     "data": {
      "text/plain": [
       "Dataset({\n",
       "    features: ['text', 'label', 'input_ids', 'attention_mask'],\n",
       "    num_rows: 20000\n",
       "})"
      ]
     },
     "execution_count": 4,
     "metadata": {},
     "output_type": "execute_result"
    }
   ],
   "source": [
    "# Loading the Tokenizer and tokenize the dataset\n",
    "tokenizer = AutoTokenizer.from_pretrained(\"distilbert-base-uncased\")\n",
    "\n",
    "tokenized_dataset = {}\n",
    "for split in splits:\n",
    "    tokenized_dataset[split] = dataset[split].map(\n",
    "        lambda x: tokenizer(x[\"text\"], truncation=True), batched=True\n",
    "    )\n",
    "\n",
    "tokenized_dataset[\"train\"]"
   ]
  },
  {
   "cell_type": "markdown",
   "id": "5e64c04c",
   "metadata": {},
   "source": [
    "### Load and set up the model\n",
    "\n",
    "In this case we are doing a full fine tuning, so we will want to unfreeze all parameters."
   ]
  },
  {
   "cell_type": "code",
   "execution_count": 5,
   "id": "019b9f55",
   "metadata": {},
   "outputs": [
    {
     "name": "stderr",
     "output_type": "stream",
     "text": [
      "Some weights of DistilBertForSequenceClassification were not initialized from the model checkpoint at distilbert-base-uncased and are newly initialized: ['classifier.weight', 'pre_classifier.weight', 'pre_classifier.bias', 'classifier.bias']\n",
      "You should probably TRAIN this model on a down-stream task to be able to use it for predictions and inference.\n"
     ]
    }
   ],
   "source": [
    "# Loading the pretrained HuggingFace foundation model\n",
    "model = AutoModelForSequenceClassification.from_pretrained(\n",
    "    \"distilbert-base-uncased\",\n",
    "    num_labels=2,\n",
    "    id2label={0: \"NEGATIVE\", 1: \"POSITIVE\"},\n",
    "    label2id={\"NEGATIVE\": 0, \"POSITIVE\": 1},\n",
    ")"
   ]
  },
  {
   "cell_type": "code",
   "execution_count": 6,
   "id": "5176b07f",
   "metadata": {},
   "outputs": [],
   "source": [
    "# Unfreeze all the model parameters\n",
    "for param in model.parameters():\n",
    "    param.requires_grad = True"
   ]
  },
  {
   "cell_type": "code",
   "execution_count": 7,
   "id": "91f1fd7e",
   "metadata": {},
   "outputs": [
    {
     "name": "stdout",
     "output_type": "stream",
     "text": [
      "DistilBertForSequenceClassification(\n",
      "  (distilbert): DistilBertModel(\n",
      "    (embeddings): Embeddings(\n",
      "      (word_embeddings): Embedding(30522, 768, padding_idx=0)\n",
      "      (position_embeddings): Embedding(512, 768)\n",
      "      (LayerNorm): LayerNorm((768,), eps=1e-12, elementwise_affine=True)\n",
      "      (dropout): Dropout(p=0.1, inplace=False)\n",
      "    )\n",
      "    (transformer): Transformer(\n",
      "      (layer): ModuleList(\n",
      "        (0-5): 6 x TransformerBlock(\n",
      "          (attention): MultiHeadSelfAttention(\n",
      "            (dropout): Dropout(p=0.1, inplace=False)\n",
      "            (q_lin): Linear(in_features=768, out_features=768, bias=True)\n",
      "            (k_lin): Linear(in_features=768, out_features=768, bias=True)\n",
      "            (v_lin): Linear(in_features=768, out_features=768, bias=True)\n",
      "            (out_lin): Linear(in_features=768, out_features=768, bias=True)\n",
      "          )\n",
      "          (sa_layer_norm): LayerNorm((768,), eps=1e-12, elementwise_affine=True)\n",
      "          (ffn): FFN(\n",
      "            (dropout): Dropout(p=0.1, inplace=False)\n",
      "            (lin1): Linear(in_features=768, out_features=3072, bias=True)\n",
      "            (lin2): Linear(in_features=3072, out_features=768, bias=True)\n",
      "            (activation): GELUActivation()\n",
      "          )\n",
      "          (output_layer_norm): LayerNorm((768,), eps=1e-12, elementwise_affine=True)\n",
      "        )\n",
      "      )\n",
      "    )\n",
      "  )\n",
      "  (pre_classifier): Linear(in_features=768, out_features=768, bias=True)\n",
      "  (classifier): Linear(in_features=768, out_features=2, bias=True)\n",
      "  (dropout): Dropout(p=0.2, inplace=False)\n",
      ")\n"
     ]
    }
   ],
   "source": [
    "print(model)"
   ]
  },
  {
   "cell_type": "markdown",
   "id": "8a3842c4",
   "metadata": {},
   "source": [
    "### Let's train it!\n",
    "\n",
    "Now it's time to train our model. We'll use the `Trainer` class.\n",
    "\n",
    "First we'll define a function to compute our accuracy metreic then we make the `Trainer`.\n",
    "\n",
    "In this instance, we will fill in some of the training arguments"
   ]
  },
  {
   "cell_type": "code",
   "execution_count": 8,
   "id": "4da31ec4",
   "metadata": {},
   "outputs": [
    {
     "name": "stderr",
     "output_type": "stream",
     "text": [
      "You're using a DistilBertTokenizerFast tokenizer. Please note that with a fast tokenizer, using the `__call__` method is faster than using a method to encode the text followed by a call to the `pad` method to get a padded encoding.\n"
     ]
    },
    {
     "data": {
      "text/html": [
       "\n",
       "    <div>\n",
       "      \n",
       "      <progress value='10000' max='10000' style='width:300px; height:20px; vertical-align: middle;'></progress>\n",
       "      [10000/10000 32:17, Epoch 2/2]\n",
       "    </div>\n",
       "    <table border=\"1\" class=\"dataframe\">\n",
       "  <thead>\n",
       " <tr style=\"text-align: left;\">\n",
       "      <th>Epoch</th>\n",
       "      <th>Training Loss</th>\n",
       "      <th>Validation Loss</th>\n",
       "      <th>Accuracy</th>\n",
       "    </tr>\n",
       "  </thead>\n",
       "  <tbody>\n",
       "    <tr>\n",
       "      <td>1</td>\n",
       "      <td>0.693300</td>\n",
       "      <td>0.693129</td>\n",
       "      <td>0.503800</td>\n",
       "    </tr>\n",
       "    <tr>\n",
       "      <td>2</td>\n",
       "      <td>0.693200</td>\n",
       "      <td>0.693134</td>\n",
       "      <td>0.503800</td>\n",
       "    </tr>\n",
       "  </tbody>\n",
       "</table><p>"
      ],
      "text/plain": [
       "<IPython.core.display.HTML object>"
      ]
     },
     "metadata": {},
     "output_type": "display_data"
    },
    {
     "data": {
      "text/plain": [
       "TrainOutput(global_step=10000, training_loss=0.6984223693847657, metrics={'train_runtime': 1937.87, 'train_samples_per_second': 20.641, 'train_steps_per_second': 5.16, 'total_flos': 4437059681878944.0, 'train_loss': 0.6984223693847657, 'epoch': 2.0})"
      ]
     },
     "execution_count": 8,
     "metadata": {},
     "output_type": "execute_result"
    }
   ],
   "source": [
    "def compute_metrics(eval_pred):\n",
    "    predictions, labels = eval_pred\n",
    "    predictions = np.argmax(predictions, axis=1)\n",
    "    return {\"accuracy\": (predictions == labels).mean()}\n",
    "\n",
    "# The HuggingFace Trainer class handles the training and eval loop for PyTorch for us.\n",
    "# Read more about it here https://huggingface.co/docs/transformers/main_classes/trainer\n",
    "trainer = Trainer(\n",
    "    model=model,\n",
    "    args=TrainingArguments(\n",
    "        output_dir=\"./model\",\n",
    "        # Set the learning rate\n",
    "        learning_rate=2e-3,\n",
    "        # Set the per device train batch size and eval batch size\n",
    "        per_device_train_batch_size=4,\n",
    "        per_device_eval_batch_size=4,\n",
    "        # Evaluate and save the model after each epoch\n",
    "        evaluation_strategy=\"epoch\",\n",
    "        save_strategy=\"epoch\",\n",
    "        # Set the learning rate\n",
    "        num_train_epochs=2,\n",
    "        weight_decay=0.01,\n",
    "        load_best_model_at_end=True,\n",
    "    ),\n",
    "    train_dataset=tokenized_dataset[\"train\"],\n",
    "    eval_dataset=tokenized_dataset[\"test\"],\n",
    "    tokenizer=tokenizer,\n",
    "    data_collator=DataCollatorWithPadding(tokenizer=tokenizer),\n",
    "    compute_metrics=compute_metrics,\n",
    ")\n",
    "\n",
    "trainer.train()"
   ]
  },
  {
   "cell_type": "markdown",
   "id": "650b2bf4",
   "metadata": {},
   "source": [
    "### Evaluate the model\n",
    "\n",
    "Evaluating the model is as simple as calling the evaluate method on the trainer object. This will run the model on the test set and compute the metrics we specified in the compute_metrics function."
   ]
  },
  {
   "cell_type": "code",
   "execution_count": 9,
   "id": "5cbbfeb7",
   "metadata": {},
   "outputs": [
    {
     "data": {
      "text/html": [],
      "text/plain": [
       "<IPython.core.display.HTML object>"
      ]
     },
     "metadata": {},
     "output_type": "display_data"
    },
    {
     "data": {
      "text/plain": [
       "{'eval_loss': 0.6931286454200745,\n",
       " 'eval_accuracy': 0.5038,\n",
       " 'eval_runtime': 69.2983,\n",
       " 'eval_samples_per_second': 72.152,\n",
       " 'eval_steps_per_second': 18.038,\n",
       " 'epoch': 2.0}"
      ]
     },
     "execution_count": 9,
     "metadata": {},
     "output_type": "execute_result"
    }
   ],
   "source": [
    "# Show the performance of the model on the test set\n",
    "# What do you think the evaluation accuracy will be?\n",
    "trainer.evaluate()"
   ]
  },
  {
   "cell_type": "markdown",
   "id": "58c6ac32",
   "metadata": {},
   "source": [
    "### View the results\n",
    "\n",
    "Let's look at a few examples"
   ]
  },
  {
   "cell_type": "code",
   "execution_count": 10,
   "id": "e8013875",
   "metadata": {},
   "outputs": [
    {
     "data": {
      "text/html": [
       "<div>\n",
       "<style scoped>\n",
       "    .dataframe tbody tr th:only-of-type {\n",
       "        vertical-align: middle;\n",
       "    }\n",
       "\n",
       "    .dataframe tbody tr th {\n",
       "        vertical-align: top;\n",
       "    }\n",
       "\n",
       "    .dataframe thead th {\n",
       "        text-align: right;\n",
       "    }\n",
       "</style>\n",
       "<table border=\"1\" class=\"dataframe\">\n",
       "  <thead>\n",
       "    <tr style=\"text-align: right;\">\n",
       "      <th></th>\n",
       "      <th>text</th>\n",
       "      <th>predictions</th>\n",
       "      <th>labels</th>\n",
       "    </tr>\n",
       "  </thead>\n",
       "  <tbody>\n",
       "    <tr>\n",
       "      <th>0</th>\n",
       "      <td>As soon as I heard about this film I knew I had to check it out. Well, I heard about it, then I found the trailer. After that, that's when I knew I had to see it. And I am so glad I did. You want to see classic television mixed with zombies? No? Then get lost.&lt;br /&gt;&lt;br /&gt;FIDO is a movie unlike anything I've ever seen. Well, actually, it kind of is. It's kind of like a Lassie episode and a Zombie film. Though when combined, it feels completely new and original. FIDO is about a little boy named Timmy and his new pet Fido. Well this new pet ain't no squawking parakeet or some potty-trained puppy. It's a re-animated dead guy...a zombie. A large radiation cloud engulfed Earth which led to all of the dead rising, which ensued the Zombie Wars. Though through the genius of Reinhold Giger, lead scientist of ZomCon, he discovered that if you destroy the brain, the zombie will perish, thus giving us the edge and the win in the Zombie War. Though due to lingering radiation, whoever dies becomes a zombie. Which can be a problem especially with the elderly. Though Zomcom steps up again with more breakthroughs, especially with the Domestication Collar. The collar stops the zombie's need for human flesh and thus making it harmless as a household pet. But not all is perfect in this Zombie Utopia, collars break, old people die and....well I'll just let you watch this incredibly unique flick.&lt;br /&gt;&lt;br /&gt;FIDO is a fantastic idea brought to fruition. With an all-star cast, and great writing FIDO rises above most in the comedy/horror genre. There are plenty of funny and original situations that really had me entertained. Though after seeing the film, I personally think the movie would have been better in black and white. At less than 90 minutes, the movie doesn't go on for too long and moves from scene to scene at a good rate. It'll probably end up being a cult-classic of sorts, since it's not really a laugh out loud comedy or even a horror movie. It's a comedy/family/zombie film immersed in the 1950 vibe. If you thought anything I said here was interesting by all means check this film out. But if you're still on the fence, swing your leg back over and stay there. 8.5 outta 10</td>\n",
       "      <td>1</td>\n",
       "      <td>1</td>\n",
       "    </tr>\n",
       "    <tr>\n",
       "      <th>1</th>\n",
       "      <td>When his in-laws are viciously murdered by a gang of thugs, a young deputy is ordered to escort his mute friend, forced to take the rap by the gang, to Tucson for trial and ending up having to face the real killers along the way.&lt;br /&gt;&lt;br /&gt;The Decoy is a real-life decoy sent to video stores to lure you away from better films! It's talky, illogical, slow, and ultimately very boring.&lt;br /&gt;&lt;br /&gt;There's some good costumes, sets, and photography but nothing else is good about this vanity project from writer/director/producer/star Justin Kreinbrink, who apparently had too much money on his hands.&lt;br /&gt;&lt;br /&gt;They used to make westerns like this, that were under an hour long. Trim this of about half it's length and you might have something watchable.</td>\n",
       "      <td>1</td>\n",
       "      <td>0</td>\n",
       "    </tr>\n",
       "    <tr>\n",
       "      <th>2</th>\n",
       "      <td>This is not a good movie. It's disjointed, all the acting is bad, and has a lame story you've seen a thousand times done much better else where. Not to mention you can see every plot point coming from a mile away. Worst of all, no one bothered to tell Lonette Mckee she can't sing. But who cares, she's sooooo damn good looking. But I digress, nothing new here. Bottom-line, hot girl group gets taken advantage of, some one gets hooked on drugs, someone gets hooked on a guy, some one gets the hell out, and then the horrible stuff happens. Surprise, surprise. Welcome to the music business. I can't believe so many people out there think this is a good movie. So many of you seem to want to use a sliding scale when it comes to grading Black Movies. I don't play that! If you want to support these films by going to see them - great! If you enjoyed it - super! To each his own. But don't try to tell me it was good. Pleeeease! I wish colored folks would not fawn over these kind of movies just because they feature black actors. Wanna see a good African-American movie? See Love Jones. Ray. Or The Color Purple. Those would be great movies no matter what the color of the actors skin. Why? Because they told compelling stories with great acting, that made you feel something long after you left the theater. Just because it's our experience does not automatically make it a good film. It's only good -- when it's good. Period.</td>\n",
       "      <td>1</td>\n",
       "      <td>0</td>\n",
       "    </tr>\n",
       "    <tr>\n",
       "      <th>3</th>\n",
       "      <td>Went to see the movie \"Troy\" this afternoon. Here's what I learned:&lt;br /&gt;&lt;br /&gt;Contrary to popular opinion and history in general, Greek men were not gay. EVER. This was clearly established immediately at the start of the film and reinforced every five minutes or so thereafter. So it is safe for American dudes to see this movie.&lt;br /&gt;&lt;br /&gt;Helen of Troy always had impeccable hair and makeup. She looked gorgeous in all of her brief cameo scenes which, though numerous, were probably all filmed on the same day, one after the other, with the director saying, \"Alright, now look beautiful . . . good ... OK, now look frightened ... good... now look depressed ... good ... now look interested . . . good ... now look beautiful again ... good...\"&lt;br /&gt;&lt;br /&gt;Most Greek and Trojan men had British accents. Those with American accents couldn't act.&lt;br /&gt;&lt;br /&gt;Trojans looked just like Greeks, but they tended to stay on the right side of the screen.&lt;br /&gt;&lt;br /&gt;Brad Pitt does not blink on camera.&lt;br /&gt;&lt;br /&gt;Helen of Troy's biggest line was, \"They're coming for me.\"&lt;br /&gt;&lt;br /&gt;Trojan music sounded remarkably like modern Bulgarian music.&lt;br /&gt;&lt;br /&gt;Brad Pitt's thighs go all the way up.&lt;br /&gt;&lt;br /&gt;Achilles had a young male friend with whom he was very close, but it's OK. They were cousins. Never mind what history says.&lt;br /&gt;&lt;br /&gt;Peter O'Toole can tell an entire story with just an expression.&lt;br /&gt;&lt;br /&gt;Trojan gods apparently all had Greek names, but their statues either looked Egyptian or like Peter O'Toole in drag.&lt;br /&gt;&lt;br /&gt;Greek men never touched each other unless they were fighting, much like American men.&lt;br /&gt;&lt;br /&gt;All of the thousands of extras in the movie had exactly the same skin color... Light Egyptian, by Max Factor.&lt;br /&gt;&lt;br /&gt;Troy had only three women.&lt;br /&gt;&lt;br /&gt;There were lots of blond Greeks, which is good news for Brad Pitt, who would otherwise have really stuck out.&lt;br /&gt;&lt;br /&gt;Despite their coastal desert locale, Greeks had the uncanny ability to find unlimited amounts of timber to build fires, funeral pyres, Trojan horses and the like.&lt;br /&gt;&lt;br /&gt;British actors look silly with Greek hairdos.&lt;br /&gt;&lt;br /&gt;Brad Pitt changes expression only when the sun is shining directly in his eyes.&lt;br /&gt;&lt;br /&gt;Greek soldiers fought constantly, but their outfits always looked impeccable.&lt;br /&gt;&lt;br /&gt;Greek soldiers wore underwear under their skirts.&lt;br /&gt;&lt;br /&gt;Apparently Greek temples were always in ruins, even back when they were all new.</td>\n",
       "      <td>1</td>\n",
       "      <td>0</td>\n",
       "    </tr>\n",
       "    <tr>\n",
       "      <th>4</th>\n",
       "      <td>Scott is right. The best 2 person sword duel ever put on film is in the middle of this movie. The sword fights with multiple fighters are not the best although quite good. However, the fight in the middle is the best even compared to Japanese samurai movies. Chinese swordplay scenes in my opinion have never surpassed the Japanese in terms of entertainment value. Especially in scenes where one guy must battle a group of enemies, Japanese movies excel, example being the Lone Wolf and Cub series. Even though duels in Japanese cinema last only seconds or a minute at the most, the sheer intensity of those moments made them better. But, this is one example where Chinese swordplay surpasses the Japanese. The scene in the middle of this film was a five minute long fight with the most amazing choreography ever. The other fights in this movie are good too but even if they sucked this movie would get a 7 for that one scene. If you haven't seen it, you have to. John Woo is the man.</td>\n",
       "      <td>1</td>\n",
       "      <td>1</td>\n",
       "    </tr>\n",
       "    <tr>\n",
       "      <th>5</th>\n",
       "      <td>Director Edward Sedgwick, an old hand at visual comedy, successfully leads this Hal Roach road show which tenders a fast-moving and adroit scenario and excellent casting, employing a large number of Roach's reliable performers. Although the film was originally plotted as a vehicle for Patsy Kelly, sunny Jack Haley stars as Joe Jenkins, a young Kansan who sells his auto repair business and journeys to Hollywood, where he attempts to wangle a screen role for the girl he loves, star-struck Cecilia (Rosina Lawrence). Sedgwick, who prefers using the entire M-G-M studio as his set, does so here as Cecilia, always ready for an audition, is treated by a would-be paramour, cinema star Rinaldo Lopez (Mischa Auer), to behind-the-scenes action of, naturally, a musical comedy, featuring Broadway headliner Lyda Roberti. Laurel and Hardy provide several enjoyable interludes, including their well-known skit involving a tiny harmonica, and we watch fine turns by such as Joyce Compton, Russell Hicks and Walter Long. On balance, one must hand the bays to Mischa Auer, who clearly steals the picture as an emotional movie star, a role which he largely creates, and to the director for his clever closing homage to Busby Berkeley's filmic spectacles.</td>\n",
       "      <td>1</td>\n",
       "      <td>1</td>\n",
       "    </tr>\n",
       "    <tr>\n",
       "      <th>6</th>\n",
       "      <td>I usually come on this website prior to going to the movies, as I like to see what other people think of the movie. I read many reviews which said 'thriller not a horror movie'. This prompted me to give this film a try. I really must take issue with these 'thriller/horror' statements, as it was neither! I almost went and asked for my money back, and if you lot of reviewers enjoyed this rubbish....well you must be easily pleased! At the end of the movie, the people behind me said out loud \"what a waste of time\" and I turned to them and replied \" I couldn't have summed it up better\". I kept waiting for something to happen...but it didn't. There was the potential for a lot of good scares (or thrills if you like) but none happened. Williams acted the part quite well but I felt he was short changed by a poor script which dithered around and went nowhere. Save your money folks, this is a turkey which will be featuring at a DVD store 'bargain box' near you in the very foreseeable future!</td>\n",
       "      <td>1</td>\n",
       "      <td>0</td>\n",
       "    </tr>\n",
       "    <tr>\n",
       "      <th>7</th>\n",
       "      <td>Here's an excellent Barbara Stanwyck double bill on one disc. The first movie - and believe me the lesser of the two - is MGM's \"To Please A Lady\" (1950) in which she is paired with Clark Gable. It is essentially a star vehicle with Gable as usual dominating the film with his screen presence. Here he plays a macho racing driver who gets some bad press from feminist reporter Stanwyck and the battle of the sexes begins. Of course after much ado they eventually end up in each others arms and it all comes to a predictable and pleasing close. A bit of a fluff of a move really but Gable and Stanwyck - two icons of the Golden Age - make it watchable!&lt;br /&gt;&lt;br /&gt;But the real meat on this DVD is the second feature - a marvellous and quite unknown little thriller called JEOPARDY. Produced by MGM in 1953 this is a wonderful little gem of a movie that hasn't dated one iota! Here Stanwyck plays the wife of Barry Sullivan and mother to their young son Lee Aaker on vacation on a deserted and remote Mexican beach when suddenly tragedy strikes. A dilapidated wooden pier collapses trapping Sullivan under a heavy pylon and guess what? Yes,the tide is coming in. With not a soul in sight and unable to free him herself Stanwyck sets off by car for assistance. After driving some distance the only aid she can muster comes from an unscrupulous escaped convict (Ralph Meeker) who - in return for his help - wants more from her than money or a change of clothes (\"I'll do anything to save my husband\"). Does she or doesn't she??. &lt;br /&gt;&lt;br /&gt;Meeker runs away with the picture! He turns in quite a brilliant performance! Once he comes into the film you simply cannot take your eyes off him! An actor in the smouldering Brando style he surprisingly never made much of his career in films. Although he gave splendid performances as the unsavoury, disgraced cavalry officer in the outstanding Mann/Stewart western \"Naked Spur\" (1953) and as one of the doomed sacrificial french troopers in Stanley Kubrick's powerful WW1 drama \"Paths Of Glory\" (1957) his only real claim to fame was as Mike Hammer in Mickey Spillane's \"Kiss Me Deadly\" in 1955. His performance in \"Jeopardy\" should have done wonders for him but he had only a so-so career in films. He died in 1988.&lt;br /&gt;&lt;br /&gt;Because of this release \"Jeopardy\" can now proudly take its rightful place as a classic noir. A memorable, taut and exciting thriller thanks to fine performances, tight direction by John Sturges, the crisp Monochrome Cinematography of Victor Milner and an atmospheric score by Dimitri Tiomkin. Extras, however are no great shakes except for a radio version of \"Jeopardy\" and trailers for both movies.&lt;br /&gt;&lt;br /&gt;This disc is also part of a Barbara Stanwyck box set celebrating her centenary. Hard to believe that the lady would be over 100 years old if she was still around!&lt;br /&gt;&lt;br /&gt;JEOPARDY - an MGM winner!</td>\n",
       "      <td>1</td>\n",
       "      <td>1</td>\n",
       "    </tr>\n",
       "  </tbody>\n",
       "</table>\n",
       "</div>"
      ],
      "text/plain": [
       "                                                                                                                                                                                                                                                                                                                                                                                                                                                                                                                                                                                                                                                                                                                                                                                                                                                                                                                                                                                                                                                                                                                                                                                                                                                                                                                                                                                                                                                                                                                                                                                                                                                                                                                                                                                                                                                                                                                                                                                                                                                                                                                                                                                                                                                                                                                                                                                                                                                                                                                                                                                                                                                                                                                                                                                                                                                                                                                                                                                              text  \\\n",
       "0                                                                                                                                                                                                                                                                                                                                                                                                                                                                                                                                                                                                                                                                                                                As soon as I heard about this film I knew I had to check it out. Well, I heard about it, then I found the trailer. After that, that's when I knew I had to see it. And I am so glad I did. You want to see classic television mixed with zombies? No? Then get lost.<br /><br />FIDO is a movie unlike anything I've ever seen. Well, actually, it kind of is. It's kind of like a Lassie episode and a Zombie film. Though when combined, it feels completely new and original. FIDO is about a little boy named Timmy and his new pet Fido. Well this new pet ain't no squawking parakeet or some potty-trained puppy. It's a re-animated dead guy...a zombie. A large radiation cloud engulfed Earth which led to all of the dead rising, which ensued the Zombie Wars. Though through the genius of Reinhold Giger, lead scientist of ZomCon, he discovered that if you destroy the brain, the zombie will perish, thus giving us the edge and the win in the Zombie War. Though due to lingering radiation, whoever dies becomes a zombie. Which can be a problem especially with the elderly. Though Zomcom steps up again with more breakthroughs, especially with the Domestication Collar. The collar stops the zombie's need for human flesh and thus making it harmless as a household pet. But not all is perfect in this Zombie Utopia, collars break, old people die and....well I'll just let you watch this incredibly unique flick.<br /><br />FIDO is a fantastic idea brought to fruition. With an all-star cast, and great writing FIDO rises above most in the comedy/horror genre. There are plenty of funny and original situations that really had me entertained. Though after seeing the film, I personally think the movie would have been better in black and white. At less than 90 minutes, the movie doesn't go on for too long and moves from scene to scene at a good rate. It'll probably end up being a cult-classic of sorts, since it's not really a laugh out loud comedy or even a horror movie. It's a comedy/family/zombie film immersed in the 1950 vibe. If you thought anything I said here was interesting by all means check this film out. But if you're still on the fence, swing your leg back over and stay there. 8.5 outta 10   \n",
       "1                                                                                                                                                                                                                                                                                                                                                                                                                                                                                                                                                                                                                                                                                                                                                                                                                                                                                                                                                                                                                                                                                                                                                                                                                                                                                                                                                                                                                                                                                                                                                                                                                                                                                                                                                                                                                                                                                                                                                                                                                                                                                                                                                                                                               When his in-laws are viciously murdered by a gang of thugs, a young deputy is ordered to escort his mute friend, forced to take the rap by the gang, to Tucson for trial and ending up having to face the real killers along the way.<br /><br />The Decoy is a real-life decoy sent to video stores to lure you away from better films! It's talky, illogical, slow, and ultimately very boring.<br /><br />There's some good costumes, sets, and photography but nothing else is good about this vanity project from writer/director/producer/star Justin Kreinbrink, who apparently had too much money on his hands.<br /><br />They used to make westerns like this, that were under an hour long. Trim this of about half it's length and you might have something watchable.   \n",
       "2                                                                                                                                                                                                                                                                                                                                                                                                                                                                                                                                                                                                                                                                                                                                                                                                                                                                                                                                                                                                                                                                                                                                                                                                                                                                                                                                                                                                                                                                                                              This is not a good movie. It's disjointed, all the acting is bad, and has a lame story you've seen a thousand times done much better else where. Not to mention you can see every plot point coming from a mile away. Worst of all, no one bothered to tell Lonette Mckee she can't sing. But who cares, she's sooooo damn good looking. But I digress, nothing new here. Bottom-line, hot girl group gets taken advantage of, some one gets hooked on drugs, someone gets hooked on a guy, some one gets the hell out, and then the horrible stuff happens. Surprise, surprise. Welcome to the music business. I can't believe so many people out there think this is a good movie. So many of you seem to want to use a sliding scale when it comes to grading Black Movies. I don't play that! If you want to support these films by going to see them - great! If you enjoyed it - super! To each his own. But don't try to tell me it was good. Pleeeease! I wish colored folks would not fawn over these kind of movies just because they feature black actors. Wanna see a good African-American movie? See Love Jones. Ray. Or The Color Purple. Those would be great movies no matter what the color of the actors skin. Why? Because they told compelling stories with great acting, that made you feel something long after you left the theater. Just because it's our experience does not automatically make it a good film. It's only good -- when it's good. Period.   \n",
       "3                                                                                                                                                                                                                                                                                                                                                                                                                                   Went to see the movie \"Troy\" this afternoon. Here's what I learned:<br /><br />Contrary to popular opinion and history in general, Greek men were not gay. EVER. This was clearly established immediately at the start of the film and reinforced every five minutes or so thereafter. So it is safe for American dudes to see this movie.<br /><br />Helen of Troy always had impeccable hair and makeup. She looked gorgeous in all of her brief cameo scenes which, though numerous, were probably all filmed on the same day, one after the other, with the director saying, \"Alright, now look beautiful . . . good ... OK, now look frightened ... good... now look depressed ... good ... now look interested . . . good ... now look beautiful again ... good...\"<br /><br />Most Greek and Trojan men had British accents. Those with American accents couldn't act.<br /><br />Trojans looked just like Greeks, but they tended to stay on the right side of the screen.<br /><br />Brad Pitt does not blink on camera.<br /><br />Helen of Troy's biggest line was, \"They're coming for me.\"<br /><br />Trojan music sounded remarkably like modern Bulgarian music.<br /><br />Brad Pitt's thighs go all the way up.<br /><br />Achilles had a young male friend with whom he was very close, but it's OK. They were cousins. Never mind what history says.<br /><br />Peter O'Toole can tell an entire story with just an expression.<br /><br />Trojan gods apparently all had Greek names, but their statues either looked Egyptian or like Peter O'Toole in drag.<br /><br />Greek men never touched each other unless they were fighting, much like American men.<br /><br />All of the thousands of extras in the movie had exactly the same skin color... Light Egyptian, by Max Factor.<br /><br />Troy had only three women.<br /><br />There were lots of blond Greeks, which is good news for Brad Pitt, who would otherwise have really stuck out.<br /><br />Despite their coastal desert locale, Greeks had the uncanny ability to find unlimited amounts of timber to build fires, funeral pyres, Trojan horses and the like.<br /><br />British actors look silly with Greek hairdos.<br /><br />Brad Pitt changes expression only when the sun is shining directly in his eyes.<br /><br />Greek soldiers fought constantly, but their outfits always looked impeccable.<br /><br />Greek soldiers wore underwear under their skirts.<br /><br />Apparently Greek temples were always in ruins, even back when they were all new.   \n",
       "4                                                                                                                                                                                                                                                                                                                                                                                                                                                                                                                                                                                                                                                                                                                                                                                                                                                                                                                                                                                                                                                                                                                                                                                                                                                                                                                                                                                                                                                                                                                                                                                                                                                                                                                                                                                                                                                                                                                                                                         Scott is right. The best 2 person sword duel ever put on film is in the middle of this movie. The sword fights with multiple fighters are not the best although quite good. However, the fight in the middle is the best even compared to Japanese samurai movies. Chinese swordplay scenes in my opinion have never surpassed the Japanese in terms of entertainment value. Especially in scenes where one guy must battle a group of enemies, Japanese movies excel, example being the Lone Wolf and Cub series. Even though duels in Japanese cinema last only seconds or a minute at the most, the sheer intensity of those moments made them better. But, this is one example where Chinese swordplay surpasses the Japanese. The scene in the middle of this film was a five minute long fight with the most amazing choreography ever. The other fights in this movie are good too but even if they sucked this movie would get a 7 for that one scene. If you haven't seen it, you have to. John Woo is the man.   \n",
       "5                                                                                                                                                                                                                                                                                                                                                                                                                                                                                                                                                                                                                                                                                                                                                                                                                                                                                                                                                                                                                                                                                                                                                                                                                                                                                                                                                                                                                                                                                                                                                                                                                                                                                                    Director Edward Sedgwick, an old hand at visual comedy, successfully leads this Hal Roach road show which tenders a fast-moving and adroit scenario and excellent casting, employing a large number of Roach's reliable performers. Although the film was originally plotted as a vehicle for Patsy Kelly, sunny Jack Haley stars as Joe Jenkins, a young Kansan who sells his auto repair business and journeys to Hollywood, where he attempts to wangle a screen role for the girl he loves, star-struck Cecilia (Rosina Lawrence). Sedgwick, who prefers using the entire M-G-M studio as his set, does so here as Cecilia, always ready for an audition, is treated by a would-be paramour, cinema star Rinaldo Lopez (Mischa Auer), to behind-the-scenes action of, naturally, a musical comedy, featuring Broadway headliner Lyda Roberti. Laurel and Hardy provide several enjoyable interludes, including their well-known skit involving a tiny harmonica, and we watch fine turns by such as Joyce Compton, Russell Hicks and Walter Long. On balance, one must hand the bays to Mischa Auer, who clearly steals the picture as an emotional movie star, a role which he largely creates, and to the director for his clever closing homage to Busby Berkeley's filmic spectacles.   \n",
       "6                                                                                                                                                                                                                                                                                                                                                                                                                                                                                                                                                                                                                                                                                                                                                                                                                                                                                                                                                                                                                                                                                                                                                                                                                                                                                                                                                                                                                                                                                                                                                                                                                                                                                                                                                                                                                                                                                                                                                              I usually come on this website prior to going to the movies, as I like to see what other people think of the movie. I read many reviews which said 'thriller not a horror movie'. This prompted me to give this film a try. I really must take issue with these 'thriller/horror' statements, as it was neither! I almost went and asked for my money back, and if you lot of reviewers enjoyed this rubbish....well you must be easily pleased! At the end of the movie, the people behind me said out loud \"what a waste of time\" and I turned to them and replied \" I couldn't have summed it up better\". I kept waiting for something to happen...but it didn't. There was the potential for a lot of good scares (or thrills if you like) but none happened. Williams acted the part quite well but I felt he was short changed by a poor script which dithered around and went nowhere. Save your money folks, this is a turkey which will be featuring at a DVD store 'bargain box' near you in the very foreseeable future!   \n",
       "7  Here's an excellent Barbara Stanwyck double bill on one disc. The first movie - and believe me the lesser of the two - is MGM's \"To Please A Lady\" (1950) in which she is paired with Clark Gable. It is essentially a star vehicle with Gable as usual dominating the film with his screen presence. Here he plays a macho racing driver who gets some bad press from feminist reporter Stanwyck and the battle of the sexes begins. Of course after much ado they eventually end up in each others arms and it all comes to a predictable and pleasing close. A bit of a fluff of a move really but Gable and Stanwyck - two icons of the Golden Age - make it watchable!<br /><br />But the real meat on this DVD is the second feature - a marvellous and quite unknown little thriller called JEOPARDY. Produced by MGM in 1953 this is a wonderful little gem of a movie that hasn't dated one iota! Here Stanwyck plays the wife of Barry Sullivan and mother to their young son Lee Aaker on vacation on a deserted and remote Mexican beach when suddenly tragedy strikes. A dilapidated wooden pier collapses trapping Sullivan under a heavy pylon and guess what? Yes,the tide is coming in. With not a soul in sight and unable to free him herself Stanwyck sets off by car for assistance. After driving some distance the only aid she can muster comes from an unscrupulous escaped convict (Ralph Meeker) who - in return for his help - wants more from her than money or a change of clothes (\"I'll do anything to save my husband\"). Does she or doesn't she??. <br /><br />Meeker runs away with the picture! He turns in quite a brilliant performance! Once he comes into the film you simply cannot take your eyes off him! An actor in the smouldering Brando style he surprisingly never made much of his career in films. Although he gave splendid performances as the unsavoury, disgraced cavalry officer in the outstanding Mann/Stewart western \"Naked Spur\" (1953) and as one of the doomed sacrificial french troopers in Stanley Kubrick's powerful WW1 drama \"Paths Of Glory\" (1957) his only real claim to fame was as Mike Hammer in Mickey Spillane's \"Kiss Me Deadly\" in 1955. His performance in \"Jeopardy\" should have done wonders for him but he had only a so-so career in films. He died in 1988.<br /><br />Because of this release \"Jeopardy\" can now proudly take its rightful place as a classic noir. A memorable, taut and exciting thriller thanks to fine performances, tight direction by John Sturges, the crisp Monochrome Cinematography of Victor Milner and an atmospheric score by Dimitri Tiomkin. Extras, however are no great shakes except for a radio version of \"Jeopardy\" and trailers for both movies.<br /><br />This disc is also part of a Barbara Stanwyck box set celebrating her centenary. Hard to believe that the lady would be over 100 years old if she was still around!<br /><br />JEOPARDY - an MGM winner!   \n",
       "\n",
       "   predictions  labels  \n",
       "0            1       1  \n",
       "1            1       0  \n",
       "2            1       0  \n",
       "3            1       0  \n",
       "4            1       1  \n",
       "5            1       1  \n",
       "6            1       0  \n",
       "7            1       1  "
      ]
     },
     "execution_count": 10,
     "metadata": {},
     "output_type": "execute_result"
    }
   ],
   "source": [
    "# Make a dataframe with the predictions and the text and the labels\n",
    "items_for_manual_review = tokenized_dataset[\"test\"].select(\n",
    "    [0, 1, 22, 31, 43, 292, 448, 487]\n",
    ")\n",
    "\n",
    "results = trainer.predict(items_for_manual_review)\n",
    "df = pd.DataFrame(\n",
    "    {\n",
    "        \"text\": [item[\"text\"] for item in items_for_manual_review],\n",
    "        \"predictions\": results.predictions.argmax(axis=1),\n",
    "        \"labels\": results.label_ids,\n",
    "    }\n",
    ")\n",
    "# Show all the cell\n",
    "pd.set_option(\"display.max_colwidth\", None)\n",
    "df"
   ]
  },
  {
   "cell_type": "markdown",
   "id": "4d52a229",
   "metadata": {},
   "source": [
    "## Performing Parameter-Efficient Fine-Tuning\n",
    "\n",
    "TODO: In the cells below, create a PEFT model from your loaded model, run a training loop, and save the PEFT model weights."
   ]
  },
  {
   "cell_type": "code",
   "execution_count": null,
   "id": "5775fadf",
   "metadata": {},
   "outputs": [],
   "source": []
  },
  {
   "cell_type": "code",
   "execution_count": null,
   "id": "894046c0",
   "metadata": {},
   "outputs": [],
   "source": []
  },
  {
   "cell_type": "code",
   "execution_count": null,
   "id": "c4d4c908",
   "metadata": {},
   "outputs": [],
   "source": []
  },
  {
   "cell_type": "code",
   "execution_count": null,
   "id": "b47abf88",
   "metadata": {},
   "outputs": [],
   "source": []
  },
  {
   "cell_type": "code",
   "execution_count": null,
   "id": "fa7fe003",
   "metadata": {},
   "outputs": [],
   "source": []
  },
  {
   "cell_type": "markdown",
   "id": "615b12c6",
   "metadata": {},
   "source": [
    "## Performing Inference with a PEFT Model\n",
    "\n",
    "TODO: In the cells below, load the saved PEFT model weights and evaluate the performance of the trained PEFT model. Be sure to compare the results to the results from prior to fine-tuning."
   ]
  },
  {
   "cell_type": "code",
   "execution_count": null,
   "id": "863ec66e",
   "metadata": {},
   "outputs": [],
   "source": []
  },
  {
   "cell_type": "code",
   "execution_count": null,
   "id": "bc3a8147",
   "metadata": {},
   "outputs": [],
   "source": []
  },
  {
   "cell_type": "code",
   "execution_count": null,
   "id": "bc96905a",
   "metadata": {},
   "outputs": [],
   "source": []
  },
  {
   "cell_type": "code",
   "execution_count": null,
   "id": "866ab28c",
   "metadata": {},
   "outputs": [],
   "source": []
  },
  {
   "cell_type": "code",
   "execution_count": null,
   "id": "f9a32e4e",
   "metadata": {},
   "outputs": [],
   "source": []
  }
 ],
 "metadata": {
  "kernelspec": {
   "display_name": "Python 3 (ipykernel)",
   "language": "python",
   "name": "python3"
  },
  "language_info": {
   "codemirror_mode": {
    "name": "ipython",
    "version": 3
   },
   "file_extension": ".py",
   "mimetype": "text/x-python",
   "name": "python",
   "nbconvert_exporter": "python",
   "pygments_lexer": "ipython3",
   "version": "3.10.11"
  }
 },
 "nbformat": 4,
 "nbformat_minor": 5
}
